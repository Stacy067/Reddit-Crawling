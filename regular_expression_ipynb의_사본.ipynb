{
  "nbformat": 4,
  "nbformat_minor": 0,
  "metadata": {
    "colab": {
      "provenance": [],
      "collapsed_sections": [],
      "toc_visible": true,
      "include_colab_link": true
    },
    "kernelspec": {
      "name": "python3",
      "display_name": "Python 3"
    },
    "language_info": {
      "name": "python"
    }
  },
  "cells": [
    {
      "cell_type": "markdown",
      "metadata": {
        "id": "view-in-github",
        "colab_type": "text"
      },
      "source": [
        "<a href=\"https://colab.research.google.com/github/Stacy067/Text-mining-and-Natural-Language-Process/blob/main/regular_expression_ipynb%EC%9D%98_%EC%82%AC%EB%B3%B8.ipynb\" target=\"_parent\"><img src=\"https://colab.research.google.com/assets/colab-badge.svg\" alt=\"Open In Colab\"/></a>"
      ]
    },
    {
      "cell_type": "markdown",
      "source": [
        "이 자료는 위키독스 딥 러닝을 이용한 자연어 처리 입문의 정규 표현식 튜토리얼 자료입니다.  \n",
        "\n",
        "링크 : https://wikidocs.net/21703"
      ],
      "metadata": {
        "id": "DT6IGJlpjAPj"
      }
    },
    {
      "cell_type": "markdown",
      "metadata": {
        "id": "b6gn0IE_XTyP"
      },
      "source": [
        "# 1. 정규 표현식 실습"
      ]
    },
    {
      "cell_type": "code",
      "metadata": {
        "id": "Q0P7qM5MVlg3"
      },
      "source": [
        "import re"
      ],
      "execution_count": 1,
      "outputs": []
    },
    {
      "cell_type": "markdown",
      "metadata": {
        "id": "m2yBhTA_W44y"
      },
      "source": [
        "## 1) .기호"
      ]
    },
    {
      "cell_type": "code",
      "metadata": {
        "id": "b8mK7Tz2Wmqd"
      },
      "source": [
        "r = re.compile(\"a.c\")\n",
        "r.search(\"kkk\") # 아무런 결과도 출력되지 않는다."
      ],
      "execution_count": 2,
      "outputs": []
    },
    {
      "cell_type": "code",
      "metadata": {
        "colab": {
          "base_uri": "https://localhost:8080/"
        },
        "id": "MdJ90SdsWoDc",
        "outputId": "4e04ed74-26a2-4206-877c-83077415726d"
      },
      "source": [
        "r.search(\"abc\")"
      ],
      "execution_count": 3,
      "outputs": [
        {
          "output_type": "execute_result",
          "data": {
            "text/plain": [
              "<re.Match object; span=(0, 3), match='abc'>"
            ]
          },
          "metadata": {},
          "execution_count": 3
        }
      ]
    },
    {
      "cell_type": "markdown",
      "metadata": {
        "id": "YE7no07jW9sG"
      },
      "source": [
        "## 2) ?기호"
      ]
    },
    {
      "cell_type": "code",
      "metadata": {
        "id": "m6e1re5xWo68"
      },
      "source": [
        "r = re.compile(\"ab?c\")\n",
        "r.search(\"abbc\") # 아무런 결과도 출력되지 않는다."
      ],
      "execution_count": 4,
      "outputs": []
    },
    {
      "cell_type": "code",
      "metadata": {
        "colab": {
          "base_uri": "https://localhost:8080/"
        },
        "id": "Z1JzaXNLWuBT",
        "outputId": "593fd716-b153-4441-bf10-d207c17e459a"
      },
      "source": [
        "r.search(\"abc\")"
      ],
      "execution_count": 5,
      "outputs": [
        {
          "output_type": "execute_result",
          "data": {
            "text/plain": [
              "<re.Match object; span=(0, 3), match='abc'>"
            ]
          },
          "metadata": {},
          "execution_count": 5
        }
      ]
    },
    {
      "cell_type": "code",
      "metadata": {
        "colab": {
          "base_uri": "https://localhost:8080/"
        },
        "id": "uFEgHiryWuy7",
        "outputId": "0f13d1a2-f836-4546-aada-9c35822c5290"
      },
      "source": [
        "r.search(\"ac\")"
      ],
      "execution_count": 6,
      "outputs": [
        {
          "output_type": "execute_result",
          "data": {
            "text/plain": [
              "<re.Match object; span=(0, 2), match='ac'>"
            ]
          },
          "metadata": {},
          "execution_count": 6
        }
      ]
    },
    {
      "cell_type": "markdown",
      "metadata": {
        "id": "nKv1Bws2XC2D"
      },
      "source": [
        "## 3) *기호"
      ]
    },
    {
      "cell_type": "code",
      "metadata": {
        "id": "H097TUCKWvfD"
      },
      "source": [
        "r = re.compile(\"ab*c\")\n",
        "r.search(\"a\") # 아무런 결과도 출력되지 않는다."
      ],
      "execution_count": 7,
      "outputs": []
    },
    {
      "cell_type": "code",
      "metadata": {
        "colab": {
          "base_uri": "https://localhost:8080/"
        },
        "id": "5SjTs_XyWwfj",
        "outputId": "6a04c5e2-35cd-454e-cbef-1888d1598302"
      },
      "source": [
        "r.search(\"ac\")"
      ],
      "execution_count": 8,
      "outputs": [
        {
          "output_type": "execute_result",
          "data": {
            "text/plain": [
              "<re.Match object; span=(0, 2), match='ac'>"
            ]
          },
          "metadata": {},
          "execution_count": 8
        }
      ]
    },
    {
      "cell_type": "code",
      "metadata": {
        "colab": {
          "base_uri": "https://localhost:8080/"
        },
        "id": "L3q1n3ctWxPD",
        "outputId": "983b0c8b-35d4-4feb-ea95-ec319a97e602"
      },
      "source": [
        "r.search(\"abc\") "
      ],
      "execution_count": 9,
      "outputs": [
        {
          "output_type": "execute_result",
          "data": {
            "text/plain": [
              "<re.Match object; span=(0, 3), match='abc'>"
            ]
          },
          "metadata": {},
          "execution_count": 9
        }
      ]
    },
    {
      "cell_type": "code",
      "metadata": {
        "colab": {
          "base_uri": "https://localhost:8080/"
        },
        "id": "GosGefZeWyFj",
        "outputId": "45b2d5a0-db09-45b4-e873-04b145757253"
      },
      "source": [
        "r.search(\"abbbbc\")"
      ],
      "execution_count": 10,
      "outputs": [
        {
          "output_type": "execute_result",
          "data": {
            "text/plain": [
              "<re.Match object; span=(0, 6), match='abbbbc'>"
            ]
          },
          "metadata": {},
          "execution_count": 10
        }
      ]
    },
    {
      "cell_type": "markdown",
      "metadata": {
        "id": "bEm33duiXF1J"
      },
      "source": [
        "## 4) +기호"
      ]
    },
    {
      "cell_type": "code",
      "metadata": {
        "id": "To40UDWXWzdD"
      },
      "source": [
        "r = re.compile(\"ab+c\")\n",
        "r.search(\"ac\") # 아무런 결과도 출력되지 않는다."
      ],
      "execution_count": 11,
      "outputs": []
    },
    {
      "cell_type": "code",
      "metadata": {
        "colab": {
          "base_uri": "https://localhost:8080/"
        },
        "id": "g3YR4mipW0nj",
        "outputId": "cb74e911-1ee7-4925-e91e-3c2ab67c0ebe"
      },
      "source": [
        "r.search(\"abc\")"
      ],
      "execution_count": 12,
      "outputs": [
        {
          "output_type": "execute_result",
          "data": {
            "text/plain": [
              "<re.Match object; span=(0, 3), match='abc'>"
            ]
          },
          "metadata": {},
          "execution_count": 12
        }
      ]
    },
    {
      "cell_type": "code",
      "metadata": {
        "colab": {
          "base_uri": "https://localhost:8080/"
        },
        "id": "Yf3rJg3XW14z",
        "outputId": "0295302a-36ae-4862-ec9b-f74776ba423a"
      },
      "source": [
        "r.search(\"abbbbc\")"
      ],
      "execution_count": 13,
      "outputs": [
        {
          "output_type": "execute_result",
          "data": {
            "text/plain": [
              "<re.Match object; span=(0, 6), match='abbbbc'>"
            ]
          },
          "metadata": {},
          "execution_count": 13
        }
      ]
    },
    {
      "cell_type": "markdown",
      "metadata": {
        "id": "Qhf3KYwwXJaR"
      },
      "source": [
        "##5) ^기호"
      ]
    },
    {
      "cell_type": "code",
      "metadata": {
        "id": "lzddNOMrW2vT"
      },
      "source": [
        "r = re.compile(\"^ab\")\n",
        "r.search(\"bbc\") # 아무런 결과도 출력되지 않는다.\n",
        "r.search(\"zab\") # 아무런 결과도 출력되지 않는다."
      ],
      "execution_count": 14,
      "outputs": []
    },
    {
      "cell_type": "code",
      "metadata": {
        "colab": {
          "base_uri": "https://localhost:8080/"
        },
        "id": "UK4DupjpXMEM",
        "outputId": "b16da42d-cceb-4c09-f72d-c79e67e29d42"
      },
      "source": [
        "r.search(\"abz\")"
      ],
      "execution_count": 15,
      "outputs": [
        {
          "output_type": "execute_result",
          "data": {
            "text/plain": [
              "<re.Match object; span=(0, 2), match='ab'>"
            ]
          },
          "metadata": {},
          "execution_count": 15
        }
      ]
    },
    {
      "cell_type": "markdown",
      "metadata": {
        "id": "kiJnGkxjXORa"
      },
      "source": [
        "## 6) {숫자} 기호"
      ]
    },
    {
      "cell_type": "code",
      "metadata": {
        "id": "nSn928WrXNBj"
      },
      "source": [
        "r = re.compile(\"ab{2}c\")\n",
        "r.search(\"ac\") # 아무런 결과도 출력되지 않는다.\n",
        "r.search(\"abc\") # 아무런 결과도 출력되지 않는다.\n",
        "r.search(\"abbbbbc\") # 아무런 결과도 출력되지 않는다."
      ],
      "execution_count": 16,
      "outputs": []
    },
    {
      "cell_type": "code",
      "metadata": {
        "colab": {
          "base_uri": "https://localhost:8080/"
        },
        "id": "S5MGce6uXQGr",
        "outputId": "8755afc0-1c40-46d1-b810-35d44777813a"
      },
      "source": [
        "r.search(\"abbc\")"
      ],
      "execution_count": 17,
      "outputs": [
        {
          "output_type": "execute_result",
          "data": {
            "text/plain": [
              "<re.Match object; span=(0, 4), match='abbc'>"
            ]
          },
          "metadata": {},
          "execution_count": 17
        }
      ]
    },
    {
      "cell_type": "markdown",
      "metadata": {
        "id": "gZqzr9G9XWdr"
      },
      "source": [
        "## 7) {숫자1, 숫자2} 기호"
      ]
    },
    {
      "cell_type": "code",
      "metadata": {
        "id": "K15jls0cXRsT"
      },
      "source": [
        "r = re.compile(\"ab{2,8}c\")\n",
        "r.search(\"ac\") # 아무런 결과도 출력되지 않는다.\n",
        "r.search(\"abc\") # 아무런 결과도 출력되지 않는다."
      ],
      "execution_count": 18,
      "outputs": []
    },
    {
      "cell_type": "code",
      "metadata": {
        "colab": {
          "base_uri": "https://localhost:8080/"
        },
        "id": "givKMbawXXb8",
        "outputId": "06243617-557a-4dbd-87cb-5c24c00ba96a"
      },
      "source": [
        "r.search(\"abbc\")"
      ],
      "execution_count": 19,
      "outputs": [
        {
          "output_type": "execute_result",
          "data": {
            "text/plain": [
              "<re.Match object; span=(0, 4), match='abbc'>"
            ]
          },
          "metadata": {},
          "execution_count": 19
        }
      ]
    },
    {
      "cell_type": "code",
      "metadata": {
        "colab": {
          "base_uri": "https://localhost:8080/"
        },
        "id": "okMpRJrgXYKL",
        "outputId": "789d900f-aeb2-408d-e5d2-4f844d41b448"
      },
      "source": [
        "r.search(\"abbbbbbbbc\")"
      ],
      "execution_count": 20,
      "outputs": [
        {
          "output_type": "execute_result",
          "data": {
            "text/plain": [
              "<re.Match object; span=(0, 10), match='abbbbbbbbc'>"
            ]
          },
          "metadata": {},
          "execution_count": 20
        }
      ]
    },
    {
      "cell_type": "code",
      "metadata": {
        "id": "DssKVE_zXY9z"
      },
      "source": [
        "r.search(\"abbbbbbbbbc\") # 아무런 결과도 출력되지 않는다."
      ],
      "execution_count": 21,
      "outputs": []
    },
    {
      "cell_type": "markdown",
      "metadata": {
        "id": "vRDsDOADXcAJ"
      },
      "source": [
        "## 8) {숫자,} 기호"
      ]
    },
    {
      "cell_type": "code",
      "metadata": {
        "id": "iILQ_lYKXZz7",
        "colab": {
          "base_uri": "https://localhost:8080/"
        },
        "outputId": "5001a6bb-f591-4bb7-edb2-9dca01abcd60"
      },
      "source": [
        "r = re.compile(\"a{2,}bc\")\n",
        "r.search(\"bc\") # 아무런 결과도 출력되지 않는다.\n",
        "r.search(\"aa\") # 아무런 결과도 출력되지 않는다.\n",
        "r.search(\"aaaaaaaabc\") # 아무런 결과도 출력되지 않는다."
      ],
      "execution_count": 22,
      "outputs": [
        {
          "output_type": "execute_result",
          "data": {
            "text/plain": [
              "<re.Match object; span=(0, 10), match='aaaaaaaabc'>"
            ]
          },
          "metadata": {},
          "execution_count": 22
        }
      ]
    },
    {
      "cell_type": "code",
      "metadata": {
        "colab": {
          "base_uri": "https://localhost:8080/"
        },
        "id": "7lDKWFsPXdq7",
        "outputId": "981b7b52-49a4-4f3b-c50b-52fc3b667952"
      },
      "source": [
        "r.search(\"aabc\")"
      ],
      "execution_count": 23,
      "outputs": [
        {
          "output_type": "execute_result",
          "data": {
            "text/plain": [
              "<re.Match object; span=(0, 4), match='aabc'>"
            ]
          },
          "metadata": {},
          "execution_count": 23
        }
      ]
    },
    {
      "cell_type": "markdown",
      "metadata": {
        "id": "qTNV9-zFXgTC"
      },
      "source": [
        "## 9) [] 기호"
      ]
    },
    {
      "cell_type": "code",
      "metadata": {
        "id": "_1d381CQXfMk"
      },
      "source": [
        "r = re.compile(\"[abc]\") # [abc]는 [a-c]와 같다.\n",
        "r.search(\"zzz\") # 아무런 결과도 출력되지 않는다."
      ],
      "execution_count": 24,
      "outputs": []
    },
    {
      "cell_type": "code",
      "metadata": {
        "colab": {
          "base_uri": "https://localhost:8080/"
        },
        "id": "WwKqDOdmXjAL",
        "outputId": "fb6957c5-f310-44e2-c99b-b4f652dc46f2"
      },
      "source": [
        "r.search(\"a\")"
      ],
      "execution_count": 25,
      "outputs": [
        {
          "output_type": "execute_result",
          "data": {
            "text/plain": [
              "<re.Match object; span=(0, 1), match='a'>"
            ]
          },
          "metadata": {},
          "execution_count": 25
        }
      ]
    },
    {
      "cell_type": "code",
      "metadata": {
        "colab": {
          "base_uri": "https://localhost:8080/"
        },
        "id": "KIMaZGh0XjnL",
        "outputId": "93d396ea-0570-4ede-8e82-fbb68abf5245"
      },
      "source": [
        "r.search(\"aaaaaaa\")      "
      ],
      "execution_count": 26,
      "outputs": [
        {
          "output_type": "execute_result",
          "data": {
            "text/plain": [
              "<re.Match object; span=(0, 1), match='a'>"
            ]
          },
          "metadata": {},
          "execution_count": 26
        }
      ]
    },
    {
      "cell_type": "code",
      "metadata": {
        "colab": {
          "base_uri": "https://localhost:8080/"
        },
        "id": "PgLh2qZQXkQb",
        "outputId": "d21d8b23-206b-4788-ebac-19831dfc9d2d"
      },
      "source": [
        "r.search(\"baac\") "
      ],
      "execution_count": 27,
      "outputs": [
        {
          "output_type": "execute_result",
          "data": {
            "text/plain": [
              "<re.Match object; span=(0, 1), match='b'>"
            ]
          },
          "metadata": {},
          "execution_count": 27
        }
      ]
    },
    {
      "cell_type": "code",
      "metadata": {
        "id": "sU1HYwEvXlDL"
      },
      "source": [
        "r = re.compile(\"[a-z]\")\n",
        "r.search(\"AAA\") # 아무런 결과도 출력되지 않는다.\n",
        "r.search(\"111\") # 아무런 결과도 출력되지 않는다."
      ],
      "execution_count": 28,
      "outputs": []
    },
    {
      "cell_type": "code",
      "metadata": {
        "colab": {
          "base_uri": "https://localhost:8080/"
        },
        "id": "XRSxi_00Xoos",
        "outputId": "d2173709-3629-4795-9844-1bbf2ab6aeaa"
      },
      "source": [
        "r.search(\"aBC\")"
      ],
      "execution_count": 29,
      "outputs": [
        {
          "output_type": "execute_result",
          "data": {
            "text/plain": [
              "<re.Match object; span=(0, 1), match='a'>"
            ]
          },
          "metadata": {},
          "execution_count": 29
        }
      ]
    },
    {
      "cell_type": "markdown",
      "metadata": {
        "id": "4w3_ye7OXtRd"
      },
      "source": [
        "## 10) [^문자] 기호"
      ]
    },
    {
      "cell_type": "code",
      "metadata": {
        "id": "RPIq6u0ZXqtk"
      },
      "source": [
        "r = re.compile(\"[^abc]\")\n",
        "\n",
        "# 아래의 세 코드는 아무런 결과도 출력되지 않는다.\n",
        "r.search(\"a\")\n",
        "r.search(\"ab\") \n",
        "r.search(\"b\")"
      ],
      "execution_count": 30,
      "outputs": []
    },
    {
      "cell_type": "code",
      "metadata": {
        "colab": {
          "base_uri": "https://localhost:8080/"
        },
        "id": "V29HDp6lXuRk",
        "outputId": "47377af5-2671-409a-b856-fa3eef9a2114"
      },
      "source": [
        "r.search(\"d\")"
      ],
      "execution_count": 31,
      "outputs": [
        {
          "output_type": "execute_result",
          "data": {
            "text/plain": [
              "<re.Match object; span=(0, 1), match='d'>"
            ]
          },
          "metadata": {},
          "execution_count": 31
        }
      ]
    },
    {
      "cell_type": "code",
      "metadata": {
        "colab": {
          "base_uri": "https://localhost:8080/"
        },
        "id": "EyhmlW_fXu6M",
        "outputId": "3d8db6fc-17f8-45b2-b4bc-8d0a3211b751"
      },
      "source": [
        "r.search(\"1\")"
      ],
      "execution_count": 32,
      "outputs": [
        {
          "output_type": "execute_result",
          "data": {
            "text/plain": [
              "<re.Match object; span=(0, 1), match='1'>"
            ]
          },
          "metadata": {},
          "execution_count": 32
        }
      ]
    },
    {
      "cell_type": "markdown",
      "metadata": {
        "id": "L2SveE-JXz4C"
      },
      "source": [
        "# 2. 정규 표현식 모듈 함수 예제\n"
      ]
    },
    {
      "cell_type": "markdown",
      "metadata": {
        "id": "f5ale9FwX2JM"
      },
      "source": [
        "## 1) re.match() 와 re.search()의 차이"
      ]
    },
    {
      "cell_type": "code",
      "metadata": {
        "id": "2VQ-yhqHXvzL"
      },
      "source": [
        "r = re.compile(\"ab.\")\n",
        "r.match(\"kkkabc\")  #아무런 결과도 출력되지 않는다."
      ],
      "execution_count": 33,
      "outputs": []
    },
    {
      "cell_type": "code",
      "metadata": {
        "colab": {
          "base_uri": "https://localhost:8080/"
        },
        "id": "9akE9RmKX39F",
        "outputId": "1cef703b-b14d-41bd-9f5c-66cd05e2d405"
      },
      "source": [
        "r.search(\"kkkabc\")  "
      ],
      "execution_count": 34,
      "outputs": [
        {
          "output_type": "execute_result",
          "data": {
            "text/plain": [
              "<re.Match object; span=(3, 6), match='abc'>"
            ]
          },
          "metadata": {},
          "execution_count": 34
        }
      ]
    },
    {
      "cell_type": "code",
      "metadata": {
        "colab": {
          "base_uri": "https://localhost:8080/"
        },
        "id": "9HirqX5pX5yz",
        "outputId": "5c7fc103-2b6e-49c1-9687-e3fcda3c6187"
      },
      "source": [
        "r.match(\"abckkk\")  "
      ],
      "execution_count": 35,
      "outputs": [
        {
          "output_type": "execute_result",
          "data": {
            "text/plain": [
              "<re.Match object; span=(0, 3), match='abc'>"
            ]
          },
          "metadata": {},
          "execution_count": 35
        }
      ]
    },
    {
      "cell_type": "markdown",
      "metadata": {
        "id": "2lrSPDVaYFhS"
      },
      "source": [
        "## 2) re.split()"
      ]
    },
    {
      "cell_type": "code",
      "metadata": {
        "colab": {
          "base_uri": "https://localhost:8080/"
        },
        "id": "vNPyRednX6rM",
        "outputId": "96a6d3ec-de82-4445-bf09-534ffea66fc2"
      },
      "source": [
        "text = \"사과 딸기 수박 메론 바나나\"\n",
        "re.split(\" \",text)"
      ],
      "execution_count": 36,
      "outputs": [
        {
          "output_type": "execute_result",
          "data": {
            "text/plain": [
              "['사과', '딸기', '수박', '메론', '바나나']"
            ]
          },
          "metadata": {},
          "execution_count": 36
        }
      ]
    },
    {
      "cell_type": "code",
      "metadata": {
        "colab": {
          "base_uri": "https://localhost:8080/"
        },
        "id": "y2oZWeHoYG3U",
        "outputId": "f5af4793-f2dd-41ea-8921-5878440c49b4"
      },
      "source": [
        "text=\"\"\"사과\n",
        "딸기\n",
        "수박\n",
        "메론\n",
        "바나나\"\"\"\n",
        "\n",
        "re.split(\"\\n\",text)"
      ],
      "execution_count": 37,
      "outputs": [
        {
          "output_type": "execute_result",
          "data": {
            "text/plain": [
              "['사과', '딸기', '수박', '메론', '바나나']"
            ]
          },
          "metadata": {},
          "execution_count": 37
        }
      ]
    },
    {
      "cell_type": "code",
      "metadata": {
        "colab": {
          "base_uri": "https://localhost:8080/"
        },
        "id": "7Ejgw9REYIc8",
        "outputId": "a00b05b4-a8e7-448a-ff7f-9eb4a5b2318a"
      },
      "source": [
        "text = \"사과+딸기+수박+메론+바나나\"\n",
        "\n",
        "re.split(\"\\+\",text)"
      ],
      "execution_count": 38,
      "outputs": [
        {
          "output_type": "execute_result",
          "data": {
            "text/plain": [
              "['사과', '딸기', '수박', '메론', '바나나']"
            ]
          },
          "metadata": {},
          "execution_count": 38
        }
      ]
    },
    {
      "cell_type": "markdown",
      "metadata": {
        "id": "ONJQ_GCXYUKu"
      },
      "source": [
        "## 3) re.findall()"
      ]
    },
    {
      "cell_type": "code",
      "metadata": {
        "colab": {
          "base_uri": "https://localhost:8080/"
        },
        "id": "MAOQv_dSYKH8",
        "outputId": "70708996-af4c-4c7d-a3e9-91e2ed2b06f5"
      },
      "source": [
        "text = \"\"\"이름 : 김철수\n",
        "전화번호 : 010 - 1234 - 1234\n",
        "나이 : 30\n",
        "성별 : 남\"\"\"\n",
        "\n",
        "re.findall(\"\\d+\",text)"
      ],
      "execution_count": 39,
      "outputs": [
        {
          "output_type": "execute_result",
          "data": {
            "text/plain": [
              "['010', '1234', '1234', '30']"
            ]
          },
          "metadata": {},
          "execution_count": 39
        }
      ]
    },
    {
      "cell_type": "code",
      "metadata": {
        "colab": {
          "base_uri": "https://localhost:8080/"
        },
        "id": "vLwDEXE8YVnT",
        "outputId": "783f27f0-811b-4949-c509-b1f263463c1e"
      },
      "source": [
        "re.findall(\"\\d+\", \"문자열입니다.\")"
      ],
      "execution_count": 40,
      "outputs": [
        {
          "output_type": "execute_result",
          "data": {
            "text/plain": [
              "[]"
            ]
          },
          "metadata": {},
          "execution_count": 40
        }
      ]
    },
    {
      "cell_type": "markdown",
      "metadata": {
        "id": "_rO5lEAAYZ8I"
      },
      "source": [
        "## 4) re.sub()"
      ]
    },
    {
      "cell_type": "code",
      "metadata": {
        "colab": {
          "base_uri": "https://localhost:8080/"
        },
        "id": "s-XTPtXPYXpD",
        "outputId": "14d25e1a-f343-4db1-b0f6-48f220683e8e"
      },
      "source": [
        "text = \"Regular expression : A regular expression, regex or regexp[1] (sometimes called a rational expression)[2][3] is, in theoretical computer science and formal language theory, a sequence of characters that define a search pattern.\"\n",
        "\n",
        "preprocessed_text = re.sub('[^a-zA-Z]', ' ', text)\n",
        "print(preprocessed_text)"
      ],
      "execution_count": 41,
      "outputs": [
        {
          "output_type": "stream",
          "name": "stdout",
          "text": [
            "Regular expression   A regular expression  regex or regexp     sometimes called a rational expression        is  in theoretical computer science and formal language theory  a sequence of characters that define a search pattern \n"
          ]
        }
      ]
    },
    {
      "cell_type": "markdown",
      "metadata": {
        "id": "nuQQUc57Yizx"
      },
      "source": [
        "# 3. 정규 표현식 텍스트 전처리 예제"
      ]
    },
    {
      "cell_type": "code",
      "metadata": {
        "colab": {
          "base_uri": "https://localhost:8080/"
        },
        "id": "K6TgvUHDYbsL",
        "outputId": "898f23ba-e630-40b6-9a23-cf2db6d8d0d4"
      },
      "source": [
        "text = \"\"\"100 John    PROF\n",
        "101 James   STUD\n",
        "102 Mac   STUD\"\"\"  \n",
        "\n",
        "re.split('\\s+', text)"
      ],
      "execution_count": 42,
      "outputs": [
        {
          "output_type": "execute_result",
          "data": {
            "text/plain": [
              "['100', 'John', 'PROF', '101', 'James', 'STUD', '102', 'Mac', 'STUD']"
            ]
          },
          "metadata": {},
          "execution_count": 42
        }
      ]
    },
    {
      "cell_type": "code",
      "metadata": {
        "colab": {
          "base_uri": "https://localhost:8080/"
        },
        "id": "E_JDBdJoYhdL",
        "outputId": "829d9ec7-2934-484e-b635-0a948fbe32b5"
      },
      "source": [
        "re.findall('\\d+',text)"
      ],
      "execution_count": 43,
      "outputs": [
        {
          "output_type": "execute_result",
          "data": {
            "text/plain": [
              "['100', '101', '102']"
            ]
          },
          "metadata": {},
          "execution_count": 43
        }
      ]
    },
    {
      "cell_type": "code",
      "metadata": {
        "colab": {
          "base_uri": "https://localhost:8080/"
        },
        "id": "Q8RZoINiYv2M",
        "outputId": "a8739aad-8d3c-4b9e-f055-306e5849fc16"
      },
      "source": [
        "re.findall('[A-Z]',text)"
      ],
      "execution_count": 44,
      "outputs": [
        {
          "output_type": "execute_result",
          "data": {
            "text/plain": [
              "['J', 'P', 'R', 'O', 'F', 'J', 'S', 'T', 'U', 'D', 'M', 'S', 'T', 'U', 'D']"
            ]
          },
          "metadata": {},
          "execution_count": 44
        }
      ]
    },
    {
      "cell_type": "code",
      "metadata": {
        "colab": {
          "base_uri": "https://localhost:8080/"
        },
        "id": "IGVZJjlCYw48",
        "outputId": "dadcd7a2-36ae-47d2-d031-f762d1f8f9ec"
      },
      "source": [
        "re.findall('[A-Z]{4}',text)"
      ],
      "execution_count": 45,
      "outputs": [
        {
          "output_type": "execute_result",
          "data": {
            "text/plain": [
              "['PROF', 'STUD', 'STUD']"
            ]
          },
          "metadata": {},
          "execution_count": 45
        }
      ]
    },
    {
      "cell_type": "code",
      "metadata": {
        "colab": {
          "base_uri": "https://localhost:8080/"
        },
        "id": "boLRGNA9Yxus",
        "outputId": "3d57c81b-3475-4212-abe3-74311971026f"
      },
      "source": [
        "re.findall('[A-Z][a-z]+',text)"
      ],
      "execution_count": 46,
      "outputs": [
        {
          "output_type": "execute_result",
          "data": {
            "text/plain": [
              "['John', 'James', 'Mac']"
            ]
          },
          "metadata": {},
          "execution_count": 46
        }
      ]
    },
    {
      "cell_type": "markdown",
      "metadata": {
        "id": "bw1IkNwPY0M7"
      },
      "source": [
        "# 4. 정규 표현식을 이용한 토큰화"
      ]
    },
    {
      "cell_type": "code",
      "metadata": {
        "colab": {
          "base_uri": "https://localhost:8080/"
        },
        "id": "AVBfZWdjYy58",
        "outputId": "26e75f42-545d-4aaf-a041-8bfc7f69b5e2"
      },
      "source": [
        "from nltk.tokenize import RegexpTokenizer\n",
        "\n",
        "text = \"Don't be fooled by the dark sounding name, Mr. Jone's Orphanage is as cheery as cheery goes for a pastry shop\"\n",
        "\n",
        "tokenizer1 = RegexpTokenizer(\"[\\w]+\")\n",
        "tokenizer2 = RegexpTokenizer(\"[\\s]+\", gaps=True)\n",
        "\n",
        "print(tokenizer1.tokenize(text))\n",
        "print(tokenizer2.tokenize(text))"
      ],
      "execution_count": 47,
      "outputs": [
        {
          "output_type": "stream",
          "name": "stdout",
          "text": [
            "['Don', 't', 'be', 'fooled', 'by', 'the', 'dark', 'sounding', 'name', 'Mr', 'Jone', 's', 'Orphanage', 'is', 'as', 'cheery', 'as', 'cheery', 'goes', 'for', 'a', 'pastry', 'shop']\n",
            "[\"Don't\", 'be', 'fooled', 'by', 'the', 'dark', 'sounding', 'name,', 'Mr.', \"Jone's\", 'Orphanage', 'is', 'as', 'cheery', 'as', 'cheery', 'goes', 'for', 'a', 'pastry', 'shop']\n"
          ]
        }
      ]
    }
  ]
}